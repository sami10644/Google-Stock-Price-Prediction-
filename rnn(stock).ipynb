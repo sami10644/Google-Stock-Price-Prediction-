{
  "nbformat": 4,
  "nbformat_minor": 0,
  "metadata": {
    "colab": {
      "name": "rnn(stock).ipynb",
      "provenance": [],
      "authorship_tag": "ABX9TyM6w1PRFS4gtj05gAyZZdMP",
      "include_colab_link": true
    },
    "kernelspec": {
      "name": "python3",
      "display_name": "Python 3"
    },
    "language_info": {
      "name": "python"
    }
  },
  "cells": [
    {
      "cell_type": "markdown",
      "metadata": {
        "id": "view-in-github",
        "colab_type": "text"
      },
      "source": [
        "<a href=\"https://colab.research.google.com/github/sami10644/Google-Stock-Price-Prediction-/blob/main/rnn(stock).ipynb\" target=\"_parent\"><img src=\"https://colab.research.google.com/assets/colab-badge.svg\" alt=\"Open In Colab\"/></a>"
      ]
    },
    {
      "cell_type": "code",
      "metadata": {
        "id": "7K_XMrIxXEVS"
      },
      "source": [
        "import numpy as np\n",
        "import pandas as pd\n",
        "import matplotlib.pyplot as plt"
      ],
      "execution_count": null,
      "outputs": []
    },
    {
      "cell_type": "code",
      "metadata": {
        "id": "PhT7qe1UXnjZ"
      },
      "source": [
        "training_set = pd.read_csv('Google_Stock_Price_Train.csv')\n",
        "training_set = training_set.iloc[:,1:2].values\n"
      ],
      "execution_count": null,
      "outputs": []
    },
    {
      "cell_type": "code",
      "metadata": {
        "id": "jm_WptXqYU4t"
      },
      "source": [
        "from sklearn.preprocessing import MinMaxScaler\n",
        "sc = MinMaxScaler()\n",
        "training_set = sc.fit_transform(training_set)\n"
      ],
      "execution_count": null,
      "outputs": []
    },
    {
      "cell_type": "code",
      "metadata": {
        "id": "TfK_-fARYlf1"
      },
      "source": [
        "X_train = training_set[0:1257]\n",
        "y_train = training_set[1:1258]"
      ],
      "execution_count": null,
      "outputs": []
    },
    {
      "cell_type": "code",
      "metadata": {
        "id": "Wjr3YIbhY6jC"
      },
      "source": [
        "X_train = np.reshape(X_train,(1257,1,1))"
      ],
      "execution_count": null,
      "outputs": []
    },
    {
      "cell_type": "code",
      "metadata": {
        "id": "vKvvs-XMZMSi"
      },
      "source": [
        "from keras.models import Sequential\n",
        "from keras.layers import Dense \n",
        "from keras.layers import LSTM"
      ],
      "execution_count": null,
      "outputs": []
    },
    {
      "cell_type": "code",
      "metadata": {
        "id": "rzSfWoqlZcBC"
      },
      "source": [
        "regressor = Sequential()"
      ],
      "execution_count": null,
      "outputs": []
    },
    {
      "cell_type": "code",
      "metadata": {
        "id": "ocHfN6s1Zfr6"
      },
      "source": [
        "regressor.add(LSTM(units = 4, activation='sigmoid',input_shape = (None,1)))"
      ],
      "execution_count": null,
      "outputs": []
    },
    {
      "cell_type": "code",
      "metadata": {
        "id": "NSKvWLnkaI_Z"
      },
      "source": [
        "regressor.add(Dense(units = 1))"
      ],
      "execution_count": null,
      "outputs": []
    },
    {
      "cell_type": "code",
      "metadata": {
        "id": "FN4IvAM7aPi6"
      },
      "source": [
        "regressor.compile(optimizer='adam',loss = 'mean_squared_error')"
      ],
      "execution_count": null,
      "outputs": []
    },
    {
      "cell_type": "code",
      "metadata": {
        "colab": {
          "base_uri": "https://localhost:8080/"
        },
        "id": "uzqMRXrpacUR",
        "outputId": "8898558e-2481-4504-c1e1-3224a01c10c3"
      },
      "source": [
        "regressor.fit(X_train,y_train,batch_size  = 32 ,epochs = 200)"
      ],
      "execution_count": null,
      "outputs": [
        {
          "output_type": "stream",
          "text": [
            "Epoch 1/200\n",
            "40/40 [==============================] - 1s 2ms/step - loss: 0.1618\n",
            "Epoch 2/200\n",
            "40/40 [==============================] - 0s 2ms/step - loss: 0.1131\n",
            "Epoch 3/200\n",
            "40/40 [==============================] - 0s 2ms/step - loss: 0.0967\n",
            "Epoch 4/200\n",
            "40/40 [==============================] - 0s 2ms/step - loss: 0.0934\n",
            "Epoch 5/200\n",
            "40/40 [==============================] - 0s 2ms/step - loss: 0.0829\n",
            "Epoch 6/200\n",
            "40/40 [==============================] - 0s 2ms/step - loss: 0.0815\n",
            "Epoch 7/200\n",
            "40/40 [==============================] - 0s 2ms/step - loss: 0.0794\n",
            "Epoch 8/200\n",
            "40/40 [==============================] - 0s 2ms/step - loss: 0.0767\n",
            "Epoch 9/200\n",
            "40/40 [==============================] - 0s 2ms/step - loss: 0.0761\n",
            "Epoch 10/200\n",
            "40/40 [==============================] - 0s 2ms/step - loss: 0.0675\n",
            "Epoch 11/200\n",
            "40/40 [==============================] - 0s 2ms/step - loss: 0.0671\n",
            "Epoch 12/200\n",
            "40/40 [==============================] - 0s 2ms/step - loss: 0.0667\n",
            "Epoch 13/200\n",
            "40/40 [==============================] - 0s 2ms/step - loss: 0.0629\n",
            "Epoch 14/200\n",
            "40/40 [==============================] - 0s 2ms/step - loss: 0.0603\n",
            "Epoch 15/200\n",
            "40/40 [==============================] - 0s 2ms/step - loss: 0.0588\n",
            "Epoch 16/200\n",
            "40/40 [==============================] - 0s 2ms/step - loss: 0.0564\n",
            "Epoch 17/200\n",
            "40/40 [==============================] - 0s 2ms/step - loss: 0.0546\n",
            "Epoch 18/200\n",
            "40/40 [==============================] - 0s 2ms/step - loss: 0.0530\n",
            "Epoch 19/200\n",
            "40/40 [==============================] - 0s 2ms/step - loss: 0.0495\n",
            "Epoch 20/200\n",
            "40/40 [==============================] - 0s 2ms/step - loss: 0.0482\n",
            "Epoch 21/200\n",
            "40/40 [==============================] - 0s 2ms/step - loss: 0.0467\n",
            "Epoch 22/200\n",
            "40/40 [==============================] - 0s 2ms/step - loss: 0.0461\n",
            "Epoch 23/200\n",
            "40/40 [==============================] - 0s 2ms/step - loss: 0.0419\n",
            "Epoch 24/200\n",
            "40/40 [==============================] - 0s 2ms/step - loss: 0.0414\n",
            "Epoch 25/200\n",
            "40/40 [==============================] - 0s 2ms/step - loss: 0.0390\n",
            "Epoch 26/200\n",
            "40/40 [==============================] - 0s 2ms/step - loss: 0.0378\n",
            "Epoch 27/200\n",
            "40/40 [==============================] - 0s 2ms/step - loss: 0.0358\n",
            "Epoch 28/200\n",
            "40/40 [==============================] - 0s 2ms/step - loss: 0.0340\n",
            "Epoch 29/200\n",
            "40/40 [==============================] - 0s 2ms/step - loss: 0.0313\n",
            "Epoch 30/200\n",
            "40/40 [==============================] - 0s 2ms/step - loss: 0.0298\n",
            "Epoch 31/200\n",
            "40/40 [==============================] - 0s 2ms/step - loss: 0.0279\n",
            "Epoch 32/200\n",
            "40/40 [==============================] - 0s 2ms/step - loss: 0.0271\n",
            "Epoch 33/200\n",
            "40/40 [==============================] - 0s 2ms/step - loss: 0.0250\n",
            "Epoch 34/200\n",
            "40/40 [==============================] - 0s 2ms/step - loss: 0.0232\n",
            "Epoch 35/200\n",
            "40/40 [==============================] - 0s 2ms/step - loss: 0.0201\n",
            "Epoch 36/200\n",
            "40/40 [==============================] - 0s 2ms/step - loss: 0.0200\n",
            "Epoch 37/200\n",
            "40/40 [==============================] - 0s 2ms/step - loss: 0.0179\n",
            "Epoch 38/200\n",
            "40/40 [==============================] - 0s 2ms/step - loss: 0.0164\n",
            "Epoch 39/200\n",
            "40/40 [==============================] - 0s 2ms/step - loss: 0.0159\n",
            "Epoch 40/200\n",
            "40/40 [==============================] - 0s 2ms/step - loss: 0.0147\n",
            "Epoch 41/200\n",
            "40/40 [==============================] - 0s 2ms/step - loss: 0.0125\n",
            "Epoch 42/200\n",
            "40/40 [==============================] - 0s 2ms/step - loss: 0.0117\n",
            "Epoch 43/200\n",
            "40/40 [==============================] - 0s 2ms/step - loss: 0.0108\n",
            "Epoch 44/200\n",
            "40/40 [==============================] - 0s 2ms/step - loss: 0.0099\n",
            "Epoch 45/200\n",
            "40/40 [==============================] - 0s 2ms/step - loss: 0.0087\n",
            "Epoch 46/200\n",
            "40/40 [==============================] - 0s 2ms/step - loss: 0.0081\n",
            "Epoch 47/200\n",
            "40/40 [==============================] - 0s 2ms/step - loss: 0.0072\n",
            "Epoch 48/200\n",
            "40/40 [==============================] - 0s 2ms/step - loss: 0.0062\n",
            "Epoch 49/200\n",
            "40/40 [==============================] - 0s 2ms/step - loss: 0.0058\n",
            "Epoch 50/200\n",
            "40/40 [==============================] - 0s 2ms/step - loss: 0.0051\n",
            "Epoch 51/200\n",
            "40/40 [==============================] - 0s 2ms/step - loss: 0.0044\n",
            "Epoch 52/200\n",
            "40/40 [==============================] - 0s 2ms/step - loss: 0.0038\n",
            "Epoch 53/200\n",
            "40/40 [==============================] - 0s 2ms/step - loss: 0.0033\n",
            "Epoch 54/200\n",
            "40/40 [==============================] - 0s 2ms/step - loss: 0.0031\n",
            "Epoch 55/200\n",
            "40/40 [==============================] - 0s 2ms/step - loss: 0.0024\n",
            "Epoch 56/200\n",
            "40/40 [==============================] - 0s 2ms/step - loss: 0.0022\n",
            "Epoch 57/200\n",
            "40/40 [==============================] - 0s 2ms/step - loss: 0.0019\n",
            "Epoch 58/200\n",
            "40/40 [==============================] - 0s 2ms/step - loss: 0.0015\n",
            "Epoch 59/200\n",
            "40/40 [==============================] - 0s 2ms/step - loss: 0.0015\n",
            "Epoch 60/200\n",
            "40/40 [==============================] - 0s 2ms/step - loss: 0.0013\n",
            "Epoch 61/200\n",
            "40/40 [==============================] - 0s 2ms/step - loss: 0.0011\n",
            "Epoch 62/200\n",
            "40/40 [==============================] - 0s 2ms/step - loss: 9.0855e-04\n",
            "Epoch 63/200\n",
            "40/40 [==============================] - 0s 2ms/step - loss: 8.1987e-04\n",
            "Epoch 64/200\n",
            "40/40 [==============================] - 0s 2ms/step - loss: 7.6130e-04\n",
            "Epoch 65/200\n",
            "40/40 [==============================] - 0s 2ms/step - loss: 6.2327e-04\n",
            "Epoch 66/200\n",
            "40/40 [==============================] - 0s 2ms/step - loss: 5.7014e-04\n",
            "Epoch 67/200\n",
            "40/40 [==============================] - 0s 2ms/step - loss: 4.7352e-04\n",
            "Epoch 68/200\n",
            "40/40 [==============================] - 0s 2ms/step - loss: 4.9147e-04\n",
            "Epoch 69/200\n",
            "40/40 [==============================] - 0s 2ms/step - loss: 4.2880e-04\n",
            "Epoch 70/200\n",
            "40/40 [==============================] - 0s 2ms/step - loss: 3.7150e-04\n",
            "Epoch 71/200\n",
            "40/40 [==============================] - 0s 2ms/step - loss: 4.0193e-04\n",
            "Epoch 72/200\n",
            "40/40 [==============================] - 0s 2ms/step - loss: 4.1637e-04\n",
            "Epoch 73/200\n",
            "40/40 [==============================] - 0s 2ms/step - loss: 3.6419e-04\n",
            "Epoch 74/200\n",
            "40/40 [==============================] - 0s 2ms/step - loss: 3.7310e-04\n",
            "Epoch 75/200\n",
            "40/40 [==============================] - 0s 2ms/step - loss: 2.6742e-04\n",
            "Epoch 76/200\n",
            "40/40 [==============================] - 0s 2ms/step - loss: 2.9448e-04\n",
            "Epoch 77/200\n",
            "40/40 [==============================] - 0s 2ms/step - loss: 3.1237e-04\n",
            "Epoch 78/200\n",
            "40/40 [==============================] - 0s 2ms/step - loss: 3.1166e-04\n",
            "Epoch 79/200\n",
            "40/40 [==============================] - 0s 2ms/step - loss: 2.6470e-04\n",
            "Epoch 80/200\n",
            "40/40 [==============================] - 0s 2ms/step - loss: 2.5795e-04\n",
            "Epoch 81/200\n",
            "40/40 [==============================] - 0s 2ms/step - loss: 2.9574e-04\n",
            "Epoch 82/200\n",
            "40/40 [==============================] - 0s 2ms/step - loss: 2.6757e-04\n",
            "Epoch 83/200\n",
            "40/40 [==============================] - 0s 2ms/step - loss: 3.1919e-04\n",
            "Epoch 84/200\n",
            "40/40 [==============================] - 0s 2ms/step - loss: 2.8620e-04\n",
            "Epoch 85/200\n",
            "40/40 [==============================] - 0s 2ms/step - loss: 2.8850e-04\n",
            "Epoch 86/200\n",
            "40/40 [==============================] - 0s 2ms/step - loss: 3.3216e-04\n",
            "Epoch 87/200\n",
            "40/40 [==============================] - 0s 2ms/step - loss: 2.7075e-04\n",
            "Epoch 88/200\n",
            "40/40 [==============================] - 0s 2ms/step - loss: 2.7126e-04\n",
            "Epoch 89/200\n",
            "40/40 [==============================] - 0s 2ms/step - loss: 2.8524e-04\n",
            "Epoch 90/200\n",
            "40/40 [==============================] - 0s 2ms/step - loss: 2.9472e-04\n",
            "Epoch 91/200\n",
            "40/40 [==============================] - 0s 2ms/step - loss: 3.1919e-04\n",
            "Epoch 92/200\n",
            "40/40 [==============================] - 0s 2ms/step - loss: 3.2807e-04\n",
            "Epoch 93/200\n",
            "40/40 [==============================] - 0s 2ms/step - loss: 3.2463e-04\n",
            "Epoch 94/200\n",
            "40/40 [==============================] - 0s 2ms/step - loss: 3.4721e-04\n",
            "Epoch 95/200\n",
            "40/40 [==============================] - 0s 2ms/step - loss: 3.2199e-04\n",
            "Epoch 96/200\n",
            "40/40 [==============================] - 0s 2ms/step - loss: 2.8134e-04\n",
            "Epoch 97/200\n",
            "40/40 [==============================] - 0s 2ms/step - loss: 2.8908e-04\n",
            "Epoch 98/200\n",
            "40/40 [==============================] - 0s 2ms/step - loss: 3.2331e-04\n",
            "Epoch 99/200\n",
            "40/40 [==============================] - 0s 2ms/step - loss: 3.2716e-04\n",
            "Epoch 100/200\n",
            "40/40 [==============================] - 0s 2ms/step - loss: 3.2107e-04\n",
            "Epoch 101/200\n",
            "40/40 [==============================] - 0s 2ms/step - loss: 2.9259e-04\n",
            "Epoch 102/200\n",
            "40/40 [==============================] - 0s 2ms/step - loss: 2.9022e-04\n",
            "Epoch 103/200\n",
            "40/40 [==============================] - 0s 2ms/step - loss: 3.0920e-04\n",
            "Epoch 104/200\n",
            "40/40 [==============================] - 0s 2ms/step - loss: 2.6390e-04\n",
            "Epoch 105/200\n",
            "40/40 [==============================] - 0s 2ms/step - loss: 2.8854e-04\n",
            "Epoch 106/200\n",
            "40/40 [==============================] - 0s 2ms/step - loss: 3.1888e-04\n",
            "Epoch 107/200\n",
            "40/40 [==============================] - 0s 2ms/step - loss: 3.4348e-04\n",
            "Epoch 108/200\n",
            "40/40 [==============================] - 0s 2ms/step - loss: 2.7294e-04\n",
            "Epoch 109/200\n",
            "40/40 [==============================] - 0s 2ms/step - loss: 2.7431e-04\n",
            "Epoch 110/200\n",
            "40/40 [==============================] - 0s 2ms/step - loss: 3.5259e-04\n",
            "Epoch 111/200\n",
            "40/40 [==============================] - 0s 2ms/step - loss: 3.1153e-04\n",
            "Epoch 112/200\n",
            "40/40 [==============================] - 0s 2ms/step - loss: 2.4941e-04\n",
            "Epoch 113/200\n",
            "40/40 [==============================] - 0s 2ms/step - loss: 2.6624e-04\n",
            "Epoch 114/200\n",
            "40/40 [==============================] - 0s 2ms/step - loss: 3.2421e-04\n",
            "Epoch 115/200\n",
            "40/40 [==============================] - 0s 2ms/step - loss: 2.4807e-04\n",
            "Epoch 116/200\n",
            "40/40 [==============================] - 0s 2ms/step - loss: 2.5947e-04\n",
            "Epoch 117/200\n",
            "40/40 [==============================] - 0s 2ms/step - loss: 2.6190e-04\n",
            "Epoch 118/200\n",
            "40/40 [==============================] - 0s 2ms/step - loss: 2.5040e-04\n",
            "Epoch 119/200\n",
            "40/40 [==============================] - 0s 2ms/step - loss: 2.5930e-04\n",
            "Epoch 120/200\n",
            "40/40 [==============================] - 0s 2ms/step - loss: 2.9506e-04\n",
            "Epoch 121/200\n",
            "40/40 [==============================] - 0s 2ms/step - loss: 2.5955e-04\n",
            "Epoch 122/200\n",
            "40/40 [==============================] - 0s 2ms/step - loss: 2.2579e-04\n",
            "Epoch 123/200\n",
            "40/40 [==============================] - 0s 2ms/step - loss: 2.6792e-04\n",
            "Epoch 124/200\n",
            "40/40 [==============================] - 0s 2ms/step - loss: 2.2484e-04\n",
            "Epoch 125/200\n",
            "40/40 [==============================] - 0s 2ms/step - loss: 2.9818e-04\n",
            "Epoch 126/200\n",
            "40/40 [==============================] - 0s 2ms/step - loss: 3.1626e-04\n",
            "Epoch 127/200\n",
            "40/40 [==============================] - 0s 2ms/step - loss: 2.4879e-04\n",
            "Epoch 128/200\n",
            "40/40 [==============================] - 0s 2ms/step - loss: 2.7489e-04\n",
            "Epoch 129/200\n",
            "40/40 [==============================] - 0s 2ms/step - loss: 2.5824e-04\n",
            "Epoch 130/200\n",
            "40/40 [==============================] - 0s 2ms/step - loss: 2.3969e-04\n",
            "Epoch 131/200\n",
            "40/40 [==============================] - 0s 2ms/step - loss: 2.7502e-04\n",
            "Epoch 132/200\n",
            "40/40 [==============================] - 0s 2ms/step - loss: 2.5424e-04\n",
            "Epoch 133/200\n",
            "40/40 [==============================] - 0s 2ms/step - loss: 2.4252e-04\n",
            "Epoch 134/200\n",
            "40/40 [==============================] - 0s 2ms/step - loss: 2.5723e-04\n",
            "Epoch 135/200\n",
            "40/40 [==============================] - 0s 2ms/step - loss: 2.3524e-04\n",
            "Epoch 136/200\n",
            "40/40 [==============================] - 0s 2ms/step - loss: 2.6685e-04\n",
            "Epoch 137/200\n",
            "40/40 [==============================] - 0s 2ms/step - loss: 2.6748e-04\n",
            "Epoch 138/200\n",
            "40/40 [==============================] - 0s 2ms/step - loss: 2.4623e-04\n",
            "Epoch 139/200\n",
            "40/40 [==============================] - 0s 2ms/step - loss: 2.8969e-04\n",
            "Epoch 140/200\n",
            "40/40 [==============================] - 0s 2ms/step - loss: 3.1032e-04\n",
            "Epoch 141/200\n",
            "40/40 [==============================] - 0s 2ms/step - loss: 2.7332e-04\n",
            "Epoch 142/200\n",
            "40/40 [==============================] - 0s 2ms/step - loss: 2.8342e-04\n",
            "Epoch 143/200\n",
            "40/40 [==============================] - 0s 2ms/step - loss: 2.8975e-04\n",
            "Epoch 144/200\n",
            "40/40 [==============================] - 0s 2ms/step - loss: 2.6531e-04\n",
            "Epoch 145/200\n",
            "40/40 [==============================] - 0s 2ms/step - loss: 2.3286e-04\n",
            "Epoch 146/200\n",
            "40/40 [==============================] - 0s 2ms/step - loss: 3.6846e-04\n",
            "Epoch 147/200\n",
            "40/40 [==============================] - 0s 2ms/step - loss: 2.7850e-04\n",
            "Epoch 148/200\n",
            "40/40 [==============================] - 0s 2ms/step - loss: 2.8869e-04\n",
            "Epoch 149/200\n",
            "40/40 [==============================] - 0s 2ms/step - loss: 2.7848e-04\n",
            "Epoch 150/200\n",
            "40/40 [==============================] - 0s 2ms/step - loss: 2.8891e-04\n",
            "Epoch 151/200\n",
            "40/40 [==============================] - 0s 2ms/step - loss: 2.6763e-04\n",
            "Epoch 152/200\n",
            "40/40 [==============================] - 0s 2ms/step - loss: 3.0258e-04\n",
            "Epoch 153/200\n",
            "40/40 [==============================] - 0s 2ms/step - loss: 2.7854e-04\n",
            "Epoch 154/200\n",
            "40/40 [==============================] - 0s 2ms/step - loss: 2.4516e-04\n",
            "Epoch 155/200\n",
            "40/40 [==============================] - 0s 2ms/step - loss: 2.8637e-04\n",
            "Epoch 156/200\n",
            "40/40 [==============================] - 0s 2ms/step - loss: 2.7958e-04\n",
            "Epoch 157/200\n",
            "40/40 [==============================] - 0s 2ms/step - loss: 2.9386e-04\n",
            "Epoch 158/200\n",
            "40/40 [==============================] - 0s 2ms/step - loss: 2.5114e-04\n",
            "Epoch 159/200\n",
            "40/40 [==============================] - 0s 2ms/step - loss: 2.5551e-04\n",
            "Epoch 160/200\n",
            "40/40 [==============================] - 0s 2ms/step - loss: 2.6660e-04\n",
            "Epoch 161/200\n",
            "40/40 [==============================] - 0s 2ms/step - loss: 2.9841e-04\n",
            "Epoch 162/200\n",
            "40/40 [==============================] - 0s 2ms/step - loss: 2.4712e-04\n",
            "Epoch 163/200\n",
            "40/40 [==============================] - 0s 2ms/step - loss: 2.6144e-04\n",
            "Epoch 164/200\n",
            "40/40 [==============================] - 0s 2ms/step - loss: 2.8689e-04\n",
            "Epoch 165/200\n",
            "40/40 [==============================] - 0s 2ms/step - loss: 2.5680e-04\n",
            "Epoch 166/200\n",
            "40/40 [==============================] - 0s 2ms/step - loss: 2.2877e-04\n",
            "Epoch 167/200\n",
            "40/40 [==============================] - 0s 2ms/step - loss: 2.3358e-04\n",
            "Epoch 168/200\n",
            "40/40 [==============================] - 0s 2ms/step - loss: 2.3814e-04\n",
            "Epoch 169/200\n",
            "40/40 [==============================] - 0s 2ms/step - loss: 2.4239e-04\n",
            "Epoch 170/200\n",
            "40/40 [==============================] - 0s 2ms/step - loss: 2.4643e-04\n",
            "Epoch 171/200\n",
            "40/40 [==============================] - 0s 2ms/step - loss: 2.5550e-04\n",
            "Epoch 172/200\n",
            "40/40 [==============================] - 0s 2ms/step - loss: 2.3475e-04\n",
            "Epoch 173/200\n",
            "40/40 [==============================] - 0s 2ms/step - loss: 2.7976e-04\n",
            "Epoch 174/200\n",
            "40/40 [==============================] - 0s 2ms/step - loss: 2.9388e-04\n",
            "Epoch 175/200\n",
            "40/40 [==============================] - 0s 2ms/step - loss: 2.7198e-04\n",
            "Epoch 176/200\n",
            "40/40 [==============================] - 0s 2ms/step - loss: 2.2866e-04\n",
            "Epoch 177/200\n",
            "40/40 [==============================] - 0s 2ms/step - loss: 3.7358e-04\n",
            "Epoch 178/200\n",
            "40/40 [==============================] - 0s 2ms/step - loss: 2.3423e-04\n",
            "Epoch 179/200\n",
            "40/40 [==============================] - 0s 2ms/step - loss: 2.6952e-04\n",
            "Epoch 180/200\n",
            "40/40 [==============================] - 0s 2ms/step - loss: 3.0216e-04\n",
            "Epoch 181/200\n",
            "40/40 [==============================] - 0s 2ms/step - loss: 3.0425e-04\n",
            "Epoch 182/200\n",
            "40/40 [==============================] - 0s 2ms/step - loss: 2.7803e-04\n",
            "Epoch 183/200\n",
            "40/40 [==============================] - 0s 2ms/step - loss: 3.0068e-04\n",
            "Epoch 184/200\n",
            "40/40 [==============================] - 0s 2ms/step - loss: 2.4111e-04\n",
            "Epoch 185/200\n",
            "40/40 [==============================] - 0s 2ms/step - loss: 2.5298e-04\n",
            "Epoch 186/200\n",
            "40/40 [==============================] - 0s 2ms/step - loss: 2.7437e-04\n",
            "Epoch 187/200\n",
            "40/40 [==============================] - 0s 2ms/step - loss: 2.8682e-04\n",
            "Epoch 188/200\n",
            "40/40 [==============================] - 0s 2ms/step - loss: 2.4272e-04\n",
            "Epoch 189/200\n",
            "40/40 [==============================] - 0s 2ms/step - loss: 2.6067e-04\n",
            "Epoch 190/200\n",
            "40/40 [==============================] - 0s 2ms/step - loss: 2.6000e-04\n",
            "Epoch 191/200\n",
            "40/40 [==============================] - 0s 2ms/step - loss: 3.1550e-04\n",
            "Epoch 192/200\n",
            "40/40 [==============================] - 0s 2ms/step - loss: 2.8557e-04\n",
            "Epoch 193/200\n",
            "40/40 [==============================] - 0s 2ms/step - loss: 2.4481e-04\n",
            "Epoch 194/200\n",
            "40/40 [==============================] - 0s 2ms/step - loss: 2.9323e-04\n",
            "Epoch 195/200\n",
            "40/40 [==============================] - 0s 2ms/step - loss: 2.7073e-04\n",
            "Epoch 196/200\n",
            "40/40 [==============================] - 0s 2ms/step - loss: 2.3990e-04\n",
            "Epoch 197/200\n",
            "40/40 [==============================] - 0s 2ms/step - loss: 2.4078e-04\n",
            "Epoch 198/200\n",
            "40/40 [==============================] - 0s 2ms/step - loss: 2.5927e-04\n",
            "Epoch 199/200\n",
            "40/40 [==============================] - 0s 2ms/step - loss: 2.3075e-04\n",
            "Epoch 200/200\n",
            "40/40 [==============================] - 0s 2ms/step - loss: 2.9683e-04\n"
          ],
          "name": "stdout"
        },
        {
          "output_type": "execute_result",
          "data": {
            "text/plain": [
              "<tensorflow.python.keras.callbacks.History at 0x7fe72bd816d0>"
            ]
          },
          "metadata": {
            "tags": []
          },
          "execution_count": 13
        }
      ]
    },
    {
      "cell_type": "code",
      "metadata": {
        "id": "hhF9Xhi9anKp"
      },
      "source": [
        "test_set = pd.read_csv('Google_Stock_Price_Test.csv')\n",
        "real_stock_price = test_set.iloc[:,1:2].values\n"
      ],
      "execution_count": null,
      "outputs": []
    },
    {
      "cell_type": "code",
      "metadata": {
        "id": "yk1Bea4tbVzD"
      },
      "source": [
        "inputs = real_stock_price\n",
        "inputs = sc.transform(inputs)\n",
        "inputs = np.reshape(inputs,(20,1,1))\n",
        "predicted_stock_price = regressor.predict(inputs)\n",
        "predicted_stock_price = sc.inverse_transform(predicted_stock_price)"
      ],
      "execution_count": null,
      "outputs": []
    },
    {
      "cell_type": "code",
      "metadata": {
        "colab": {
          "base_uri": "https://localhost:8080/",
          "height": 295
        },
        "id": "UUHugOHgcroa",
        "outputId": "b39d10bb-e529-46b5-ac0a-61f06d8271db"
      },
      "source": [
        "plt.plot(real_stock_price,color = 'red',label = 'Real Google Stock Price')\n",
        "plt.plot(predicted_stock_price,color = 'blue',label = 'Predicted Google Stock Price')\n",
        "plt.title('Google Stock Price Prediction')\n",
        "plt.xlabel('Time')\n",
        "plt.ylabel('Stock Market Price Prediction')\n",
        "plt.legend()\n",
        "plt.show()"
      ],
      "execution_count": null,
      "outputs": [
        {
          "output_type": "display_data",
          "data": {
            "image/png": "[encoded data removed]",
            "text/plain": [
              "<Figure size 432x288 with 1 Axes>"
            ]
          },
          "metadata": {
            "tags": [],
            "needs_background": "light"
          }
        }
      ]
    },
    {
      "cell_type": "code",
      "metadata": {
        "id": "VsaVQpcDdhLk"
      },
      "source": [
        ""
      ],
      "execution_count": null,
      "outputs": []
    },
    {
      "cell_type": "code",
      "metadata": {
        "id": "l49rpyxrchNG"
      },
      "source": [
        ""
      ],
      "execution_count": null,
      "outputs": []
    },
    {
      "cell_type": "code",
      "metadata": {
        "id": "ozSO4We9aZAp"
      },
      "source": [
        ""
      ],
      "execution_count": null,
      "outputs": []
    },
    {
      "cell_type": "code",
      "metadata": {
        "id": "2ep1MtyiXkyE"
      },
      "source": [
        ""
      ],
      "execution_count": null,
      "outputs": []
    }
  ]
}